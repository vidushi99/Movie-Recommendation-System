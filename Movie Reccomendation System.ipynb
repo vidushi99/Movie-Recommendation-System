{
 "cells": [
  {
   "cell_type": "code",
   "execution_count": 1,
   "id": "6f47b8b0",
   "metadata": {},
   "outputs": [],
   "source": [
    "import numpy as np\n",
    "import pandas as pd\n",
    "import warnings \n",
    "warnings.filterwarnings('ignore')"
   ]
  },
  {
   "cell_type": "code",
   "execution_count": 2,
   "id": "b32a13af",
   "metadata": {},
   "outputs": [],
   "source": [
    "bollywood = pd.read_csv('cleaned_data.csv')"
   ]
  },
  {
   "cell_type": "code",
   "execution_count": 3,
   "id": "db1d639b",
   "metadata": {},
   "outputs": [
    {
     "data": {
      "text/html": [
       "<div>\n",
       "<style scoped>\n",
       "    .dataframe tbody tr th:only-of-type {\n",
       "        vertical-align: middle;\n",
       "    }\n",
       "\n",
       "    .dataframe tbody tr th {\n",
       "        vertical-align: top;\n",
       "    }\n",
       "\n",
       "    .dataframe thead th {\n",
       "        text-align: right;\n",
       "    }\n",
       "</style>\n",
       "<table border=\"1\" class=\"dataframe\">\n",
       "  <thead>\n",
       "    <tr style=\"text-align: right;\">\n",
       "      <th></th>\n",
       "      <th>Unnamed: 0</th>\n",
       "      <th>imdb_id</th>\n",
       "      <th>original_title</th>\n",
       "      <th>genres</th>\n",
       "      <th>story</th>\n",
       "      <th>summary</th>\n",
       "      <th>actors</th>\n",
       "      <th>director</th>\n",
       "    </tr>\n",
       "  </thead>\n",
       "  <tbody>\n",
       "    <tr>\n",
       "      <th>0</th>\n",
       "      <td>0</td>\n",
       "      <td>tt8291224</td>\n",
       "      <td>Uri: The Surgical Strike</td>\n",
       "      <td>Action|Drama|War</td>\n",
       "      <td>Divided over five chapters  the film chronicle...</td>\n",
       "      <td>Indian army special forces execute a covert op...</td>\n",
       "      <td>Vicky Kaushal|Paresh Rawal|Mohit Raina|Yami Ga...</td>\n",
       "      <td>Aditya Dhar</td>\n",
       "    </tr>\n",
       "    <tr>\n",
       "      <th>1</th>\n",
       "      <td>1</td>\n",
       "      <td>tt9472208</td>\n",
       "      <td>Battalion 609</td>\n",
       "      <td>War</td>\n",
       "      <td>The story revolves around a cricket match betw...</td>\n",
       "      <td>The story of Battalion 609 revolves around a c...</td>\n",
       "      <td>Vicky Ahuja|Shoaib Ibrahim|Shrikant Kamat|Elen...</td>\n",
       "      <td>Brijesh Batuknath Tripathi</td>\n",
       "    </tr>\n",
       "    <tr>\n",
       "      <th>2</th>\n",
       "      <td>2</td>\n",
       "      <td>tt6986710</td>\n",
       "      <td>The Accidental Prime Minister</td>\n",
       "      <td>Biography|Drama</td>\n",
       "      <td>Based on the memoir by Indian policy analyst S...</td>\n",
       "      <td>Explores Manmohan Singh's tenure as the Prime ...</td>\n",
       "      <td>Anupam Kher|Akshaye Khanna|Aahana Kumra|Atul S...</td>\n",
       "      <td>Vijay Ratnakar Gutte</td>\n",
       "    </tr>\n",
       "    <tr>\n",
       "      <th>3</th>\n",
       "      <td>3</td>\n",
       "      <td>tt8108208</td>\n",
       "      <td>Why Cheat India</td>\n",
       "      <td>Crime|Drama</td>\n",
       "      <td>The movie focuses on existing malpractices in ...</td>\n",
       "      <td>The movie focuses on existing malpractices in ...</td>\n",
       "      <td>Emraan Hashmi|Shreya Dhanwanthary|Snighdadeep ...</td>\n",
       "      <td>Soumik Sen</td>\n",
       "    </tr>\n",
       "    <tr>\n",
       "      <th>4</th>\n",
       "      <td>4</td>\n",
       "      <td>tt6028796</td>\n",
       "      <td>Evening Shadows</td>\n",
       "      <td>Drama</td>\n",
       "      <td>While gay rights and marriage equality has bee...</td>\n",
       "      <td>Under the 'Evening Shadows'  truth often plays...</td>\n",
       "      <td>Mona Ambegaonkar|Ananth Narayan Mahadevan|Deva...</td>\n",
       "      <td>Sridhar Rangayan</td>\n",
       "    </tr>\n",
       "  </tbody>\n",
       "</table>\n",
       "</div>"
      ],
      "text/plain": [
       "   Unnamed: 0    imdb_id                 original_title            genres  \\\n",
       "0           0  tt8291224       Uri: The Surgical Strike  Action|Drama|War   \n",
       "1           1  tt9472208                  Battalion 609               War   \n",
       "2           2  tt6986710  The Accidental Prime Minister   Biography|Drama   \n",
       "3           3  tt8108208                Why Cheat India       Crime|Drama   \n",
       "4           4  tt6028796                Evening Shadows             Drama   \n",
       "\n",
       "                                               story  \\\n",
       "0  Divided over five chapters  the film chronicle...   \n",
       "1  The story revolves around a cricket match betw...   \n",
       "2  Based on the memoir by Indian policy analyst S...   \n",
       "3  The movie focuses on existing malpractices in ...   \n",
       "4  While gay rights and marriage equality has bee...   \n",
       "\n",
       "                                             summary  \\\n",
       "0  Indian army special forces execute a covert op...   \n",
       "1  The story of Battalion 609 revolves around a c...   \n",
       "2  Explores Manmohan Singh's tenure as the Prime ...   \n",
       "3  The movie focuses on existing malpractices in ...   \n",
       "4  Under the 'Evening Shadows'  truth often plays...   \n",
       "\n",
       "                                              actors  \\\n",
       "0  Vicky Kaushal|Paresh Rawal|Mohit Raina|Yami Ga...   \n",
       "1  Vicky Ahuja|Shoaib Ibrahim|Shrikant Kamat|Elen...   \n",
       "2  Anupam Kher|Akshaye Khanna|Aahana Kumra|Atul S...   \n",
       "3  Emraan Hashmi|Shreya Dhanwanthary|Snighdadeep ...   \n",
       "4  Mona Ambegaonkar|Ananth Narayan Mahadevan|Deva...   \n",
       "\n",
       "                     director  \n",
       "0                 Aditya Dhar  \n",
       "1  Brijesh Batuknath Tripathi  \n",
       "2        Vijay Ratnakar Gutte  \n",
       "3                  Soumik Sen  \n",
       "4            Sridhar Rangayan  "
      ]
     },
     "execution_count": 3,
     "metadata": {},
     "output_type": "execute_result"
    }
   ],
   "source": [
    "bollywood.head()"
   ]
  },
  {
   "cell_type": "code",
   "execution_count": 4,
   "id": "488bf5b8",
   "metadata": {},
   "outputs": [],
   "source": [
    "bollywood.drop('Unnamed: 0',axis=1,inplace=True)"
   ]
  },
  {
   "cell_type": "code",
   "execution_count": 6,
   "id": "59749df3",
   "metadata": {},
   "outputs": [
    {
     "data": {
      "text/html": [
       "<div>\n",
       "<style scoped>\n",
       "    .dataframe tbody tr th:only-of-type {\n",
       "        vertical-align: middle;\n",
       "    }\n",
       "\n",
       "    .dataframe tbody tr th {\n",
       "        vertical-align: top;\n",
       "    }\n",
       "\n",
       "    .dataframe thead th {\n",
       "        text-align: right;\n",
       "    }\n",
       "</style>\n",
       "<table border=\"1\" class=\"dataframe\">\n",
       "  <thead>\n",
       "    <tr style=\"text-align: right;\">\n",
       "      <th></th>\n",
       "      <th>imdb_id</th>\n",
       "      <th>original_title</th>\n",
       "      <th>genres</th>\n",
       "      <th>story</th>\n",
       "      <th>summary</th>\n",
       "      <th>actors</th>\n",
       "      <th>director</th>\n",
       "    </tr>\n",
       "  </thead>\n",
       "  <tbody>\n",
       "    <tr>\n",
       "      <th>0</th>\n",
       "      <td>tt8291224</td>\n",
       "      <td>Uri: The Surgical Strike</td>\n",
       "      <td>Action|Drama|War</td>\n",
       "      <td>Divided over five chapters  the film chronicle...</td>\n",
       "      <td>Indian army special forces execute a covert op...</td>\n",
       "      <td>Vicky Kaushal|Paresh Rawal|Mohit Raina|Yami Ga...</td>\n",
       "      <td>Aditya Dhar</td>\n",
       "    </tr>\n",
       "    <tr>\n",
       "      <th>1</th>\n",
       "      <td>tt9472208</td>\n",
       "      <td>Battalion 609</td>\n",
       "      <td>War</td>\n",
       "      <td>The story revolves around a cricket match betw...</td>\n",
       "      <td>The story of Battalion 609 revolves around a c...</td>\n",
       "      <td>Vicky Ahuja|Shoaib Ibrahim|Shrikant Kamat|Elen...</td>\n",
       "      <td>Brijesh Batuknath Tripathi</td>\n",
       "    </tr>\n",
       "    <tr>\n",
       "      <th>2</th>\n",
       "      <td>tt6986710</td>\n",
       "      <td>The Accidental Prime Minister</td>\n",
       "      <td>Biography|Drama</td>\n",
       "      <td>Based on the memoir by Indian policy analyst S...</td>\n",
       "      <td>Explores Manmohan Singh's tenure as the Prime ...</td>\n",
       "      <td>Anupam Kher|Akshaye Khanna|Aahana Kumra|Atul S...</td>\n",
       "      <td>Vijay Ratnakar Gutte</td>\n",
       "    </tr>\n",
       "    <tr>\n",
       "      <th>3</th>\n",
       "      <td>tt8108208</td>\n",
       "      <td>Why Cheat India</td>\n",
       "      <td>Crime|Drama</td>\n",
       "      <td>The movie focuses on existing malpractices in ...</td>\n",
       "      <td>The movie focuses on existing malpractices in ...</td>\n",
       "      <td>Emraan Hashmi|Shreya Dhanwanthary|Snighdadeep ...</td>\n",
       "      <td>Soumik Sen</td>\n",
       "    </tr>\n",
       "    <tr>\n",
       "      <th>4</th>\n",
       "      <td>tt6028796</td>\n",
       "      <td>Evening Shadows</td>\n",
       "      <td>Drama</td>\n",
       "      <td>While gay rights and marriage equality has bee...</td>\n",
       "      <td>Under the 'Evening Shadows'  truth often plays...</td>\n",
       "      <td>Mona Ambegaonkar|Ananth Narayan Mahadevan|Deva...</td>\n",
       "      <td>Sridhar Rangayan</td>\n",
       "    </tr>\n",
       "  </tbody>\n",
       "</table>\n",
       "</div>"
      ],
      "text/plain": [
       "     imdb_id                 original_title            genres  \\\n",
       "0  tt8291224       Uri: The Surgical Strike  Action|Drama|War   \n",
       "1  tt9472208                  Battalion 609               War   \n",
       "2  tt6986710  The Accidental Prime Minister   Biography|Drama   \n",
       "3  tt8108208                Why Cheat India       Crime|Drama   \n",
       "4  tt6028796                Evening Shadows             Drama   \n",
       "\n",
       "                                               story  \\\n",
       "0  Divided over five chapters  the film chronicle...   \n",
       "1  The story revolves around a cricket match betw...   \n",
       "2  Based on the memoir by Indian policy analyst S...   \n",
       "3  The movie focuses on existing malpractices in ...   \n",
       "4  While gay rights and marriage equality has bee...   \n",
       "\n",
       "                                             summary  \\\n",
       "0  Indian army special forces execute a covert op...   \n",
       "1  The story of Battalion 609 revolves around a c...   \n",
       "2  Explores Manmohan Singh's tenure as the Prime ...   \n",
       "3  The movie focuses on existing malpractices in ...   \n",
       "4  Under the 'Evening Shadows'  truth often plays...   \n",
       "\n",
       "                                              actors  \\\n",
       "0  Vicky Kaushal|Paresh Rawal|Mohit Raina|Yami Ga...   \n",
       "1  Vicky Ahuja|Shoaib Ibrahim|Shrikant Kamat|Elen...   \n",
       "2  Anupam Kher|Akshaye Khanna|Aahana Kumra|Atul S...   \n",
       "3  Emraan Hashmi|Shreya Dhanwanthary|Snighdadeep ...   \n",
       "4  Mona Ambegaonkar|Ananth Narayan Mahadevan|Deva...   \n",
       "\n",
       "                     director  \n",
       "0                 Aditya Dhar  \n",
       "1  Brijesh Batuknath Tripathi  \n",
       "2        Vijay Ratnakar Gutte  \n",
       "3                  Soumik Sen  \n",
       "4            Sridhar Rangayan  "
      ]
     },
     "execution_count": 6,
     "metadata": {},
     "output_type": "execute_result"
    }
   ],
   "source": [
    "bollywood.head()"
   ]
  },
  {
   "cell_type": "code",
   "execution_count": 7,
   "id": "8608cd91",
   "metadata": {},
   "outputs": [],
   "source": [
    "bollywood.rename(columns={'original_title':'title'},inplace=True)"
   ]
  },
  {
   "cell_type": "code",
   "execution_count": 8,
   "id": "d72edf38",
   "metadata": {},
   "outputs": [
    {
     "data": {
      "text/plain": [
       "(3986, 7)"
      ]
     },
     "execution_count": 8,
     "metadata": {},
     "output_type": "execute_result"
    }
   ],
   "source": [
    "bollywood.shape"
   ]
  },
  {
   "cell_type": "code",
   "execution_count": 9,
   "id": "9adb061e",
   "metadata": {},
   "outputs": [
    {
     "data": {
      "text/plain": [
       "imdb_id     0\n",
       "title       0\n",
       "genres      0\n",
       "story       0\n",
       "summary     0\n",
       "actors      0\n",
       "director    0\n",
       "dtype: int64"
      ]
     },
     "execution_count": 9,
     "metadata": {},
     "output_type": "execute_result"
    }
   ],
   "source": [
    "bollywood.isnull().sum()"
   ]
  },
  {
   "cell_type": "code",
   "execution_count": 10,
   "id": "222e5a50",
   "metadata": {},
   "outputs": [
    {
     "data": {
      "text/plain": [
       "137"
      ]
     },
     "execution_count": 10,
     "metadata": {},
     "output_type": "execute_result"
    }
   ],
   "source": [
    "bollywood.duplicated().sum()"
   ]
  },
  {
   "cell_type": "code",
   "execution_count": 11,
   "id": "e3c735df",
   "metadata": {},
   "outputs": [],
   "source": [
    "bollywood.drop_duplicates(inplace=True)"
   ]
  },
  {
   "cell_type": "code",
   "execution_count": 12,
   "id": "6c718af9",
   "metadata": {},
   "outputs": [
    {
     "data": {
      "text/plain": [
       "0"
      ]
     },
     "execution_count": 12,
     "metadata": {},
     "output_type": "execute_result"
    }
   ],
   "source": [
    "bollywood.duplicated().sum()"
   ]
  },
  {
   "cell_type": "code",
   "execution_count": 13,
   "id": "0d3e13de",
   "metadata": {},
   "outputs": [],
   "source": [
    "bollywood['genres'] = bollywood['genres'].apply(lambda x:x.split('|'))\n",
    "bollywood['actors'] = bollywood['actors'].apply(lambda x:x.split('|'))\n",
    "bollywood['story'] = bollywood['story'].apply(lambda x:x.split())\n",
    "bollywood['summary'] = bollywood['summary'].apply(lambda x:x.split())\n",
    "bollywood['director'] = bollywood['director'].apply(lambda x:x.replace(' ',''))"
   ]
  },
  {
   "cell_type": "code",
   "execution_count": 14,
   "id": "6fc4fb4a",
   "metadata": {},
   "outputs": [
    {
     "data": {
      "text/html": [
       "<div>\n",
       "<style scoped>\n",
       "    .dataframe tbody tr th:only-of-type {\n",
       "        vertical-align: middle;\n",
       "    }\n",
       "\n",
       "    .dataframe tbody tr th {\n",
       "        vertical-align: top;\n",
       "    }\n",
       "\n",
       "    .dataframe thead th {\n",
       "        text-align: right;\n",
       "    }\n",
       "</style>\n",
       "<table border=\"1\" class=\"dataframe\">\n",
       "  <thead>\n",
       "    <tr style=\"text-align: right;\">\n",
       "      <th></th>\n",
       "      <th>imdb_id</th>\n",
       "      <th>title</th>\n",
       "      <th>genres</th>\n",
       "      <th>story</th>\n",
       "      <th>summary</th>\n",
       "      <th>actors</th>\n",
       "      <th>director</th>\n",
       "    </tr>\n",
       "  </thead>\n",
       "  <tbody>\n",
       "    <tr>\n",
       "      <th>0</th>\n",
       "      <td>tt8291224</td>\n",
       "      <td>Uri: The Surgical Strike</td>\n",
       "      <td>[Action, Drama, War]</td>\n",
       "      <td>[Divided, over, five, chapters, the, film, chr...</td>\n",
       "      <td>[Indian, army, special, forces, execute, a, co...</td>\n",
       "      <td>[Vicky Kaushal, Paresh Rawal, Mohit Raina, Yam...</td>\n",
       "      <td>AdityaDhar</td>\n",
       "    </tr>\n",
       "    <tr>\n",
       "      <th>1</th>\n",
       "      <td>tt9472208</td>\n",
       "      <td>Battalion 609</td>\n",
       "      <td>[War]</td>\n",
       "      <td>[The, story, revolves, around, a, cricket, mat...</td>\n",
       "      <td>[The, story, of, Battalion, 609, revolves, aro...</td>\n",
       "      <td>[Vicky Ahuja, Shoaib Ibrahim, Shrikant Kamat, ...</td>\n",
       "      <td>BrijeshBatuknathTripathi</td>\n",
       "    </tr>\n",
       "    <tr>\n",
       "      <th>2</th>\n",
       "      <td>tt6986710</td>\n",
       "      <td>The Accidental Prime Minister</td>\n",
       "      <td>[Biography, Drama]</td>\n",
       "      <td>[Based, on, the, memoir, by, Indian, policy, a...</td>\n",
       "      <td>[Explores, Manmohan, Singh's, tenure, as, the,...</td>\n",
       "      <td>[Anupam Kher, Akshaye Khanna, Aahana Kumra, At...</td>\n",
       "      <td>VijayRatnakarGutte</td>\n",
       "    </tr>\n",
       "    <tr>\n",
       "      <th>3</th>\n",
       "      <td>tt8108208</td>\n",
       "      <td>Why Cheat India</td>\n",
       "      <td>[Crime, Drama]</td>\n",
       "      <td>[The, movie, focuses, on, existing, malpractic...</td>\n",
       "      <td>[The, movie, focuses, on, existing, malpractic...</td>\n",
       "      <td>[Emraan Hashmi, Shreya Dhanwanthary, Snighdade...</td>\n",
       "      <td>SoumikSen</td>\n",
       "    </tr>\n",
       "    <tr>\n",
       "      <th>4</th>\n",
       "      <td>tt6028796</td>\n",
       "      <td>Evening Shadows</td>\n",
       "      <td>[Drama]</td>\n",
       "      <td>[While, gay, rights, and, marriage, equality, ...</td>\n",
       "      <td>[Under, the, 'Evening, Shadows', truth, often,...</td>\n",
       "      <td>[Mona Ambegaonkar, Ananth Narayan Mahadevan, D...</td>\n",
       "      <td>SridharRangayan</td>\n",
       "    </tr>\n",
       "  </tbody>\n",
       "</table>\n",
       "</div>"
      ],
      "text/plain": [
       "     imdb_id                          title                genres  \\\n",
       "0  tt8291224       Uri: The Surgical Strike  [Action, Drama, War]   \n",
       "1  tt9472208                  Battalion 609                 [War]   \n",
       "2  tt6986710  The Accidental Prime Minister    [Biography, Drama]   \n",
       "3  tt8108208                Why Cheat India        [Crime, Drama]   \n",
       "4  tt6028796                Evening Shadows               [Drama]   \n",
       "\n",
       "                                               story  \\\n",
       "0  [Divided, over, five, chapters, the, film, chr...   \n",
       "1  [The, story, revolves, around, a, cricket, mat...   \n",
       "2  [Based, on, the, memoir, by, Indian, policy, a...   \n",
       "3  [The, movie, focuses, on, existing, malpractic...   \n",
       "4  [While, gay, rights, and, marriage, equality, ...   \n",
       "\n",
       "                                             summary  \\\n",
       "0  [Indian, army, special, forces, execute, a, co...   \n",
       "1  [The, story, of, Battalion, 609, revolves, aro...   \n",
       "2  [Explores, Manmohan, Singh's, tenure, as, the,...   \n",
       "3  [The, movie, focuses, on, existing, malpractic...   \n",
       "4  [Under, the, 'Evening, Shadows', truth, often,...   \n",
       "\n",
       "                                              actors                  director  \n",
       "0  [Vicky Kaushal, Paresh Rawal, Mohit Raina, Yam...                AdityaDhar  \n",
       "1  [Vicky Ahuja, Shoaib Ibrahim, Shrikant Kamat, ...  BrijeshBatuknathTripathi  \n",
       "2  [Anupam Kher, Akshaye Khanna, Aahana Kumra, At...        VijayRatnakarGutte  \n",
       "3  [Emraan Hashmi, Shreya Dhanwanthary, Snighdade...                 SoumikSen  \n",
       "4  [Mona Ambegaonkar, Ananth Narayan Mahadevan, D...           SridharRangayan  "
      ]
     },
     "execution_count": 14,
     "metadata": {},
     "output_type": "execute_result"
    }
   ],
   "source": [
    "bollywood.head()"
   ]
  },
  {
   "cell_type": "code",
   "execution_count": 15,
   "id": "7e81fb81",
   "metadata": {},
   "outputs": [],
   "source": [
    "bollywood['actors'] = bollywood['actors'].apply(lambda x: x[:5])"
   ]
  },
  {
   "cell_type": "code",
   "execution_count": 16,
   "id": "60dc92d1",
   "metadata": {},
   "outputs": [],
   "source": [
    "bollywood['actors'] = bollywood['actors'].apply(lambda x:[i.replace(' ','') for i in x])"
   ]
  },
  {
   "cell_type": "code",
   "execution_count": 17,
   "id": "7136eeeb",
   "metadata": {},
   "outputs": [],
   "source": [
    "bollywood['director'] = bollywood['director'].apply(lambda x:x.split())"
   ]
  },
  {
   "cell_type": "code",
   "execution_count": null,
   "id": "9936efe9",
   "metadata": {},
   "outputs": [],
   "source": []
  },
  {
   "cell_type": "code",
   "execution_count": 18,
   "id": "685b5a08",
   "metadata": {},
   "outputs": [],
   "source": [
    "bollywood['tags'] = bollywood['genres']+bollywood['actors']+bollywood['summary']+bollywood['story']+bollywood['director']"
   ]
  },
  {
   "cell_type": "code",
   "execution_count": 19,
   "id": "46471fc4",
   "metadata": {},
   "outputs": [
    {
     "data": {
      "text/html": [
       "<div>\n",
       "<style scoped>\n",
       "    .dataframe tbody tr th:only-of-type {\n",
       "        vertical-align: middle;\n",
       "    }\n",
       "\n",
       "    .dataframe tbody tr th {\n",
       "        vertical-align: top;\n",
       "    }\n",
       "\n",
       "    .dataframe thead th {\n",
       "        text-align: right;\n",
       "    }\n",
       "</style>\n",
       "<table border=\"1\" class=\"dataframe\">\n",
       "  <thead>\n",
       "    <tr style=\"text-align: right;\">\n",
       "      <th></th>\n",
       "      <th>imdb_id</th>\n",
       "      <th>title</th>\n",
       "      <th>genres</th>\n",
       "      <th>story</th>\n",
       "      <th>summary</th>\n",
       "      <th>actors</th>\n",
       "      <th>director</th>\n",
       "      <th>tags</th>\n",
       "    </tr>\n",
       "  </thead>\n",
       "  <tbody>\n",
       "    <tr>\n",
       "      <th>0</th>\n",
       "      <td>tt8291224</td>\n",
       "      <td>Uri: The Surgical Strike</td>\n",
       "      <td>[Action, Drama, War]</td>\n",
       "      <td>[Divided, over, five, chapters, the, film, chr...</td>\n",
       "      <td>[Indian, army, special, forces, execute, a, co...</td>\n",
       "      <td>[VickyKaushal, PareshRawal, MohitRaina, YamiGa...</td>\n",
       "      <td>[AdityaDhar]</td>\n",
       "      <td>[Action, Drama, War, VickyKaushal, PareshRawal...</td>\n",
       "    </tr>\n",
       "    <tr>\n",
       "      <th>1</th>\n",
       "      <td>tt9472208</td>\n",
       "      <td>Battalion 609</td>\n",
       "      <td>[War]</td>\n",
       "      <td>[The, story, revolves, around, a, cricket, mat...</td>\n",
       "      <td>[The, story, of, Battalion, 609, revolves, aro...</td>\n",
       "      <td>[VickyAhuja, ShoaibIbrahim, ShrikantKamat, Ele...</td>\n",
       "      <td>[BrijeshBatuknathTripathi]</td>\n",
       "      <td>[War, VickyAhuja, ShoaibIbrahim, ShrikantKamat...</td>\n",
       "    </tr>\n",
       "    <tr>\n",
       "      <th>2</th>\n",
       "      <td>tt6986710</td>\n",
       "      <td>The Accidental Prime Minister</td>\n",
       "      <td>[Biography, Drama]</td>\n",
       "      <td>[Based, on, the, memoir, by, Indian, policy, a...</td>\n",
       "      <td>[Explores, Manmohan, Singh's, tenure, as, the,...</td>\n",
       "      <td>[AnupamKher, AkshayeKhanna, AahanaKumra, AtulS...</td>\n",
       "      <td>[VijayRatnakarGutte]</td>\n",
       "      <td>[Biography, Drama, AnupamKher, AkshayeKhanna, ...</td>\n",
       "    </tr>\n",
       "    <tr>\n",
       "      <th>3</th>\n",
       "      <td>tt8108208</td>\n",
       "      <td>Why Cheat India</td>\n",
       "      <td>[Crime, Drama]</td>\n",
       "      <td>[The, movie, focuses, on, existing, malpractic...</td>\n",
       "      <td>[The, movie, focuses, on, existing, malpractic...</td>\n",
       "      <td>[EmraanHashmi, ShreyaDhanwanthary, Snighdadeep...</td>\n",
       "      <td>[SoumikSen]</td>\n",
       "      <td>[Crime, Drama, EmraanHashmi, ShreyaDhanwanthar...</td>\n",
       "    </tr>\n",
       "    <tr>\n",
       "      <th>4</th>\n",
       "      <td>tt6028796</td>\n",
       "      <td>Evening Shadows</td>\n",
       "      <td>[Drama]</td>\n",
       "      <td>[While, gay, rights, and, marriage, equality, ...</td>\n",
       "      <td>[Under, the, 'Evening, Shadows', truth, often,...</td>\n",
       "      <td>[MonaAmbegaonkar, AnanthNarayanMahadevan, Deva...</td>\n",
       "      <td>[SridharRangayan]</td>\n",
       "      <td>[Drama, MonaAmbegaonkar, AnanthNarayanMahadeva...</td>\n",
       "    </tr>\n",
       "  </tbody>\n",
       "</table>\n",
       "</div>"
      ],
      "text/plain": [
       "     imdb_id                          title                genres  \\\n",
       "0  tt8291224       Uri: The Surgical Strike  [Action, Drama, War]   \n",
       "1  tt9472208                  Battalion 609                 [War]   \n",
       "2  tt6986710  The Accidental Prime Minister    [Biography, Drama]   \n",
       "3  tt8108208                Why Cheat India        [Crime, Drama]   \n",
       "4  tt6028796                Evening Shadows               [Drama]   \n",
       "\n",
       "                                               story  \\\n",
       "0  [Divided, over, five, chapters, the, film, chr...   \n",
       "1  [The, story, revolves, around, a, cricket, mat...   \n",
       "2  [Based, on, the, memoir, by, Indian, policy, a...   \n",
       "3  [The, movie, focuses, on, existing, malpractic...   \n",
       "4  [While, gay, rights, and, marriage, equality, ...   \n",
       "\n",
       "                                             summary  \\\n",
       "0  [Indian, army, special, forces, execute, a, co...   \n",
       "1  [The, story, of, Battalion, 609, revolves, aro...   \n",
       "2  [Explores, Manmohan, Singh's, tenure, as, the,...   \n",
       "3  [The, movie, focuses, on, existing, malpractic...   \n",
       "4  [Under, the, 'Evening, Shadows', truth, often,...   \n",
       "\n",
       "                                              actors  \\\n",
       "0  [VickyKaushal, PareshRawal, MohitRaina, YamiGa...   \n",
       "1  [VickyAhuja, ShoaibIbrahim, ShrikantKamat, Ele...   \n",
       "2  [AnupamKher, AkshayeKhanna, AahanaKumra, AtulS...   \n",
       "3  [EmraanHashmi, ShreyaDhanwanthary, Snighdadeep...   \n",
       "4  [MonaAmbegaonkar, AnanthNarayanMahadevan, Deva...   \n",
       "\n",
       "                     director  \\\n",
       "0                [AdityaDhar]   \n",
       "1  [BrijeshBatuknathTripathi]   \n",
       "2        [VijayRatnakarGutte]   \n",
       "3                 [SoumikSen]   \n",
       "4           [SridharRangayan]   \n",
       "\n",
       "                                                tags  \n",
       "0  [Action, Drama, War, VickyKaushal, PareshRawal...  \n",
       "1  [War, VickyAhuja, ShoaibIbrahim, ShrikantKamat...  \n",
       "2  [Biography, Drama, AnupamKher, AkshayeKhanna, ...  \n",
       "3  [Crime, Drama, EmraanHashmi, ShreyaDhanwanthar...  \n",
       "4  [Drama, MonaAmbegaonkar, AnanthNarayanMahadeva...  "
      ]
     },
     "execution_count": 19,
     "metadata": {},
     "output_type": "execute_result"
    }
   ],
   "source": [
    "bollywood.head(5)"
   ]
  },
  {
   "cell_type": "code",
   "execution_count": 20,
   "id": "66da0c8e",
   "metadata": {},
   "outputs": [],
   "source": [
    "final_df = bollywood[['imdb_id','title','tags']]"
   ]
  },
  {
   "cell_type": "code",
   "execution_count": 21,
   "id": "bc5799fc",
   "metadata": {},
   "outputs": [],
   "source": [
    "final_df['tags'] = final_df['tags'].apply(lambda x:' '.join(x))"
   ]
  },
  {
   "cell_type": "code",
   "execution_count": 22,
   "id": "a82608d1",
   "metadata": {},
   "outputs": [],
   "source": [
    "final_df['tags'] = final_df['tags'].str.lower()"
   ]
  },
  {
   "cell_type": "code",
   "execution_count": 23,
   "id": "b22cefbd",
   "metadata": {},
   "outputs": [],
   "source": [
    "from nltk.stem.porter import PorterStemmer\n",
    "pos = PorterStemmer()"
   ]
  },
  {
   "cell_type": "code",
   "execution_count": 24,
   "id": "c1eca257",
   "metadata": {},
   "outputs": [],
   "source": [
    "def Stemming(text):\n",
    "    text = text.split()\n",
    "    l = []\n",
    "    for i in text:\n",
    "        l.append(pos.stem(i))\n",
    "    return ' '.join(l)"
   ]
  },
  {
   "cell_type": "code",
   "execution_count": 25,
   "id": "59b37227",
   "metadata": {},
   "outputs": [],
   "source": [
    "final_df['tags'] = final_df['tags'].apply(Stemming)"
   ]
  },
  {
   "cell_type": "code",
   "execution_count": 27,
   "id": "5e52461d",
   "metadata": {},
   "outputs": [],
   "source": [
    "df = final_df[['imdb_id','title']]"
   ]
  },
  {
   "cell_type": "code",
   "execution_count": 28,
   "id": "427bc813",
   "metadata": {},
   "outputs": [],
   "source": [
    "import pickle\n",
    "pickle.dump(df,open('df.pkl','wb'))"
   ]
  },
  {
   "cell_type": "code",
   "execution_count": 49,
   "id": "219053f1",
   "metadata": {},
   "outputs": [],
   "source": [
    "from sklearn.feature_extraction.text import CountVectorizer\n",
    "cv = CountVectorizer(stop_words='english',lowercase=True,max_features=5000)"
   ]
  },
  {
   "cell_type": "code",
   "execution_count": 50,
   "id": "851e943e",
   "metadata": {},
   "outputs": [],
   "source": [
    "vectors = cv.fit_transform(final_df['tags']).toarray()"
   ]
  },
  {
   "cell_type": "code",
   "execution_count": 51,
   "id": "6bf5b089",
   "metadata": {},
   "outputs": [
    {
     "data": {
      "text/plain": [
       "(3849, 5000)"
      ]
     },
     "execution_count": 51,
     "metadata": {},
     "output_type": "execute_result"
    }
   ],
   "source": [
    "vectors.shape"
   ]
  },
  {
   "cell_type": "code",
   "execution_count": 52,
   "id": "3a499908",
   "metadata": {},
   "outputs": [],
   "source": [
    "from sklearn.metrics.pairwise import cosine_similarity"
   ]
  },
  {
   "cell_type": "code",
   "execution_count": 53,
   "id": "3ceae584",
   "metadata": {},
   "outputs": [],
   "source": [
    "similarity = cosine_similarity(vectors)"
   ]
  },
  {
   "cell_type": "code",
   "execution_count": 60,
   "id": "c5547777",
   "metadata": {},
   "outputs": [],
   "source": [
    "pickle.dump(similarity,open('similarity.pkl','wb'))"
   ]
  },
  {
   "cell_type": "code",
   "execution_count": 54,
   "id": "51c17c51",
   "metadata": {
    "scrolled": true
   },
   "outputs": [
    {
     "data": {
      "text/plain": [
       "[(206, 0.3616777720717861),\n",
       " (1, 0.3442914250542026),\n",
       " (1401, 0.33072425232124475),\n",
       " (1447, 0.2846049894151541),\n",
       " (1775, 0.2606430175713435)]"
      ]
     },
     "execution_count": 54,
     "metadata": {},
     "output_type": "execute_result"
    }
   ],
   "source": [
    "sorted(list(enumerate(similarity[0])),reverse=True,key=lambda x:x[1])[1:6]"
   ]
  },
  {
   "cell_type": "code",
   "execution_count": 55,
   "id": "fa8ac68a",
   "metadata": {},
   "outputs": [],
   "source": [
    "def recommed(movie):\n",
    "    movie_index = final_df[final_df['title']==movie].index[0]\n",
    "    distance = similarity[movie_index]\n",
    "    movie_list = sorted(list(enumerate(distance)),reverse=True,key=lambda x:x[1])[1:6]\n",
    "    for i in movie_list:\n",
    "        print(final_df['imdb_id'].iloc[i[0]])\n",
    "        print(final_df['title'].iloc[i[0]])"
   ]
  },
  {
   "cell_type": "code",
   "execution_count": 56,
   "id": "1a2ff96e",
   "metadata": {},
   "outputs": [
    {
     "name": "stdout",
     "output_type": "stream",
     "text": [
      "tt6080746\n",
      "Raag Desh\n",
      "tt9472208\n",
      "Battalion 609\n",
      "tt0382385\n",
      "Zameen\n",
      "tt0307116\n",
      "Maa Tujhhe Salaam\n",
      "tt0115568\n",
      "Army\n"
     ]
    }
   ],
   "source": [
    "recommed('Uri: The Surgical Strike')"
   ]
  },
  {
   "cell_type": "code",
   "execution_count": 57,
   "id": "fb9f4f38",
   "metadata": {},
   "outputs": [],
   "source": [
    "import requests"
   ]
  },
  {
   "cell_type": "code",
   "execution_count": 58,
   "id": "e78aca26",
   "metadata": {},
   "outputs": [],
   "source": [
    "def fetch_poster(imdb_id):\n",
    "    response = requests.get('https://api.themoviedb.org/3/movie/{}?api_key=554ea29ab95145cde55cd8339423e8d4&language=en-US'.format(imdb_id))\n",
    "    data = response.json()\n",
    "    try:\n",
    "        try:\n",
    "            path = data['poster_path']\n",
    "        except KeyError:\n",
    "            path =  ''\n",
    "        return 'https://image.tmdb.org/t/p/w500/'+ path\n",
    "    except TypeError:\n",
    "        return 'image is not available'"
   ]
  },
  {
   "cell_type": "code",
   "execution_count": 59,
   "id": "1c3dafb8",
   "metadata": {},
   "outputs": [
    {
     "data": {
      "text/plain": [
       "'image is not available'"
      ]
     },
     "execution_count": 59,
     "metadata": {},
     "output_type": "execute_result"
    }
   ],
   "source": [
    "fetch_poster('tt0374016')"
   ]
  },
  {
   "cell_type": "markdown",
   "id": "af7d07c7",
   "metadata": {},
   "source": [
    "## Hollywood"
   ]
  },
  {
   "cell_type": "code",
   "execution_count": 121,
   "id": "ce937d9e",
   "metadata": {},
   "outputs": [],
   "source": [
    "movies = pd.read_csv('tmdb_5000_movies.csv')\n",
    "credit = pd.read_csv('tmdb_5000_credits.csv')"
   ]
  },
  {
   "cell_type": "code",
   "execution_count": 122,
   "id": "be854897",
   "metadata": {},
   "outputs": [
    {
     "data": {
      "text/html": [
       "<div>\n",
       "<style scoped>\n",
       "    .dataframe tbody tr th:only-of-type {\n",
       "        vertical-align: middle;\n",
       "    }\n",
       "\n",
       "    .dataframe tbody tr th {\n",
       "        vertical-align: top;\n",
       "    }\n",
       "\n",
       "    .dataframe thead th {\n",
       "        text-align: right;\n",
       "    }\n",
       "</style>\n",
       "<table border=\"1\" class=\"dataframe\">\n",
       "  <thead>\n",
       "    <tr style=\"text-align: right;\">\n",
       "      <th></th>\n",
       "      <th>budget</th>\n",
       "      <th>genres</th>\n",
       "      <th>homepage</th>\n",
       "      <th>id</th>\n",
       "      <th>keywords</th>\n",
       "      <th>original_language</th>\n",
       "      <th>original_title</th>\n",
       "      <th>overview</th>\n",
       "      <th>popularity</th>\n",
       "      <th>production_companies</th>\n",
       "      <th>production_countries</th>\n",
       "      <th>release_date</th>\n",
       "      <th>revenue</th>\n",
       "      <th>runtime</th>\n",
       "      <th>spoken_languages</th>\n",
       "      <th>status</th>\n",
       "      <th>tagline</th>\n",
       "      <th>title</th>\n",
       "      <th>vote_average</th>\n",
       "      <th>vote_count</th>\n",
       "    </tr>\n",
       "  </thead>\n",
       "  <tbody>\n",
       "    <tr>\n",
       "      <th>0</th>\n",
       "      <td>237000000</td>\n",
       "      <td>[{\"id\": 28, \"name\": \"Action\"}, {\"id\": 12, \"nam...</td>\n",
       "      <td>http://www.avatarmovie.com/</td>\n",
       "      <td>19995</td>\n",
       "      <td>[{\"id\": 1463, \"name\": \"culture clash\"}, {\"id\":...</td>\n",
       "      <td>en</td>\n",
       "      <td>Avatar</td>\n",
       "      <td>In the 22nd century, a paraplegic Marine is di...</td>\n",
       "      <td>150.437577</td>\n",
       "      <td>[{\"name\": \"Ingenious Film Partners\", \"id\": 289...</td>\n",
       "      <td>[{\"iso_3166_1\": \"US\", \"name\": \"United States o...</td>\n",
       "      <td>2009-12-10</td>\n",
       "      <td>2787965087</td>\n",
       "      <td>162.0</td>\n",
       "      <td>[{\"iso_639_1\": \"en\", \"name\": \"English\"}, {\"iso...</td>\n",
       "      <td>Released</td>\n",
       "      <td>Enter the World of Pandora.</td>\n",
       "      <td>Avatar</td>\n",
       "      <td>7.2</td>\n",
       "      <td>11800</td>\n",
       "    </tr>\n",
       "  </tbody>\n",
       "</table>\n",
       "</div>"
      ],
      "text/plain": [
       "      budget                                             genres  \\\n",
       "0  237000000  [{\"id\": 28, \"name\": \"Action\"}, {\"id\": 12, \"nam...   \n",
       "\n",
       "                      homepage     id  \\\n",
       "0  http://www.avatarmovie.com/  19995   \n",
       "\n",
       "                                            keywords original_language  \\\n",
       "0  [{\"id\": 1463, \"name\": \"culture clash\"}, {\"id\":...                en   \n",
       "\n",
       "  original_title                                           overview  \\\n",
       "0         Avatar  In the 22nd century, a paraplegic Marine is di...   \n",
       "\n",
       "   popularity                               production_companies  \\\n",
       "0  150.437577  [{\"name\": \"Ingenious Film Partners\", \"id\": 289...   \n",
       "\n",
       "                                production_countries release_date     revenue  \\\n",
       "0  [{\"iso_3166_1\": \"US\", \"name\": \"United States o...   2009-12-10  2787965087   \n",
       "\n",
       "   runtime                                   spoken_languages    status  \\\n",
       "0    162.0  [{\"iso_639_1\": \"en\", \"name\": \"English\"}, {\"iso...  Released   \n",
       "\n",
       "                       tagline   title  vote_average  vote_count  \n",
       "0  Enter the World of Pandora.  Avatar           7.2       11800  "
      ]
     },
     "execution_count": 122,
     "metadata": {},
     "output_type": "execute_result"
    }
   ],
   "source": [
    "movies.head(1)"
   ]
  },
  {
   "cell_type": "code",
   "execution_count": 123,
   "id": "2bf50089",
   "metadata": {},
   "outputs": [
    {
     "data": {
      "text/html": [
       "<div>\n",
       "<style scoped>\n",
       "    .dataframe tbody tr th:only-of-type {\n",
       "        vertical-align: middle;\n",
       "    }\n",
       "\n",
       "    .dataframe tbody tr th {\n",
       "        vertical-align: top;\n",
       "    }\n",
       "\n",
       "    .dataframe thead th {\n",
       "        text-align: right;\n",
       "    }\n",
       "</style>\n",
       "<table border=\"1\" class=\"dataframe\">\n",
       "  <thead>\n",
       "    <tr style=\"text-align: right;\">\n",
       "      <th></th>\n",
       "      <th>movie_id</th>\n",
       "      <th>title</th>\n",
       "      <th>cast</th>\n",
       "      <th>crew</th>\n",
       "    </tr>\n",
       "  </thead>\n",
       "  <tbody>\n",
       "    <tr>\n",
       "      <th>0</th>\n",
       "      <td>19995</td>\n",
       "      <td>Avatar</td>\n",
       "      <td>[{\"cast_id\": 242, \"character\": \"Jake Sully\", \"...</td>\n",
       "      <td>[{\"credit_id\": \"52fe48009251416c750aca23\", \"de...</td>\n",
       "    </tr>\n",
       "  </tbody>\n",
       "</table>\n",
       "</div>"
      ],
      "text/plain": [
       "   movie_id   title                                               cast  \\\n",
       "0     19995  Avatar  [{\"cast_id\": 242, \"character\": \"Jake Sully\", \"...   \n",
       "\n",
       "                                                crew  \n",
       "0  [{\"credit_id\": \"52fe48009251416c750aca23\", \"de...  "
      ]
     },
     "execution_count": 123,
     "metadata": {},
     "output_type": "execute_result"
    }
   ],
   "source": [
    "credit.head(1)"
   ]
  },
  {
   "cell_type": "code",
   "execution_count": 124,
   "id": "cf2d3cba",
   "metadata": {},
   "outputs": [],
   "source": [
    "hollywood = movies.merge(credit,left_on='id',right_on='movie_id')"
   ]
  },
  {
   "cell_type": "code",
   "execution_count": 125,
   "id": "5ec5b388",
   "metadata": {},
   "outputs": [
    {
     "name": "stdout",
     "output_type": "stream",
     "text": [
      "<class 'pandas.core.frame.DataFrame'>\n",
      "Int64Index: 4803 entries, 0 to 4802\n",
      "Data columns (total 24 columns):\n",
      " #   Column                Non-Null Count  Dtype  \n",
      "---  ------                --------------  -----  \n",
      " 0   budget                4803 non-null   int64  \n",
      " 1   genres                4803 non-null   object \n",
      " 2   homepage              1712 non-null   object \n",
      " 3   id                    4803 non-null   int64  \n",
      " 4   keywords              4803 non-null   object \n",
      " 5   original_language     4803 non-null   object \n",
      " 6   original_title        4803 non-null   object \n",
      " 7   overview              4800 non-null   object \n",
      " 8   popularity            4803 non-null   float64\n",
      " 9   production_companies  4803 non-null   object \n",
      " 10  production_countries  4803 non-null   object \n",
      " 11  release_date          4802 non-null   object \n",
      " 12  revenue               4803 non-null   int64  \n",
      " 13  runtime               4801 non-null   float64\n",
      " 14  spoken_languages      4803 non-null   object \n",
      " 15  status                4803 non-null   object \n",
      " 16  tagline               3959 non-null   object \n",
      " 17  title_x               4803 non-null   object \n",
      " 18  vote_average          4803 non-null   float64\n",
      " 19  vote_count            4803 non-null   int64  \n",
      " 20  movie_id              4803 non-null   int64  \n",
      " 21  title_y               4803 non-null   object \n",
      " 22  cast                  4803 non-null   object \n",
      " 23  crew                  4803 non-null   object \n",
      "dtypes: float64(3), int64(5), object(16)\n",
      "memory usage: 938.1+ KB\n"
     ]
    }
   ],
   "source": [
    "hollywood.info()"
   ]
  },
  {
   "cell_type": "markdown",
   "id": "ed93081a",
   "metadata": {},
   "source": [
    "## columns we will be using\n",
    "- id\n",
    "- original_title\n",
    "- genres\n",
    "- keywords\n",
    "- tagline \n",
    "- cast\n",
    "- crew\n",
    "- overview"
   ]
  },
  {
   "cell_type": "code",
   "execution_count": 126,
   "id": "8852b988",
   "metadata": {},
   "outputs": [],
   "source": [
    "hollywood = hollywood[['id','original_title','genres','keywords','overview','cast','crew']]"
   ]
  },
  {
   "cell_type": "code",
   "execution_count": 127,
   "id": "a807f4b5",
   "metadata": {},
   "outputs": [
    {
     "data": {
      "text/html": [
       "<div>\n",
       "<style scoped>\n",
       "    .dataframe tbody tr th:only-of-type {\n",
       "        vertical-align: middle;\n",
       "    }\n",
       "\n",
       "    .dataframe tbody tr th {\n",
       "        vertical-align: top;\n",
       "    }\n",
       "\n",
       "    .dataframe thead th {\n",
       "        text-align: right;\n",
       "    }\n",
       "</style>\n",
       "<table border=\"1\" class=\"dataframe\">\n",
       "  <thead>\n",
       "    <tr style=\"text-align: right;\">\n",
       "      <th></th>\n",
       "      <th>id</th>\n",
       "      <th>original_title</th>\n",
       "      <th>genres</th>\n",
       "      <th>keywords</th>\n",
       "      <th>overview</th>\n",
       "      <th>cast</th>\n",
       "      <th>crew</th>\n",
       "    </tr>\n",
       "  </thead>\n",
       "  <tbody>\n",
       "    <tr>\n",
       "      <th>0</th>\n",
       "      <td>19995</td>\n",
       "      <td>Avatar</td>\n",
       "      <td>[{\"id\": 28, \"name\": \"Action\"}, {\"id\": 12, \"nam...</td>\n",
       "      <td>[{\"id\": 1463, \"name\": \"culture clash\"}, {\"id\":...</td>\n",
       "      <td>In the 22nd century, a paraplegic Marine is di...</td>\n",
       "      <td>[{\"cast_id\": 242, \"character\": \"Jake Sully\", \"...</td>\n",
       "      <td>[{\"credit_id\": \"52fe48009251416c750aca23\", \"de...</td>\n",
       "    </tr>\n",
       "    <tr>\n",
       "      <th>1</th>\n",
       "      <td>285</td>\n",
       "      <td>Pirates of the Caribbean: At World's End</td>\n",
       "      <td>[{\"id\": 12, \"name\": \"Adventure\"}, {\"id\": 14, \"...</td>\n",
       "      <td>[{\"id\": 270, \"name\": \"ocean\"}, {\"id\": 726, \"na...</td>\n",
       "      <td>Captain Barbossa, long believed to be dead, ha...</td>\n",
       "      <td>[{\"cast_id\": 4, \"character\": \"Captain Jack Spa...</td>\n",
       "      <td>[{\"credit_id\": \"52fe4232c3a36847f800b579\", \"de...</td>\n",
       "    </tr>\n",
       "    <tr>\n",
       "      <th>2</th>\n",
       "      <td>206647</td>\n",
       "      <td>Spectre</td>\n",
       "      <td>[{\"id\": 28, \"name\": \"Action\"}, {\"id\": 12, \"nam...</td>\n",
       "      <td>[{\"id\": 470, \"name\": \"spy\"}, {\"id\": 818, \"name...</td>\n",
       "      <td>A cryptic message from Bond’s past sends him o...</td>\n",
       "      <td>[{\"cast_id\": 1, \"character\": \"James Bond\", \"cr...</td>\n",
       "      <td>[{\"credit_id\": \"54805967c3a36829b5002c41\", \"de...</td>\n",
       "    </tr>\n",
       "    <tr>\n",
       "      <th>3</th>\n",
       "      <td>49026</td>\n",
       "      <td>The Dark Knight Rises</td>\n",
       "      <td>[{\"id\": 28, \"name\": \"Action\"}, {\"id\": 80, \"nam...</td>\n",
       "      <td>[{\"id\": 849, \"name\": \"dc comics\"}, {\"id\": 853,...</td>\n",
       "      <td>Following the death of District Attorney Harve...</td>\n",
       "      <td>[{\"cast_id\": 2, \"character\": \"Bruce Wayne / Ba...</td>\n",
       "      <td>[{\"credit_id\": \"52fe4781c3a36847f81398c3\", \"de...</td>\n",
       "    </tr>\n",
       "    <tr>\n",
       "      <th>4</th>\n",
       "      <td>49529</td>\n",
       "      <td>John Carter</td>\n",
       "      <td>[{\"id\": 28, \"name\": \"Action\"}, {\"id\": 12, \"nam...</td>\n",
       "      <td>[{\"id\": 818, \"name\": \"based on novel\"}, {\"id\":...</td>\n",
       "      <td>John Carter is a war-weary, former military ca...</td>\n",
       "      <td>[{\"cast_id\": 5, \"character\": \"John Carter\", \"c...</td>\n",
       "      <td>[{\"credit_id\": \"52fe479ac3a36847f813eaa3\", \"de...</td>\n",
       "    </tr>\n",
       "  </tbody>\n",
       "</table>\n",
       "</div>"
      ],
      "text/plain": [
       "       id                            original_title  \\\n",
       "0   19995                                    Avatar   \n",
       "1     285  Pirates of the Caribbean: At World's End   \n",
       "2  206647                                   Spectre   \n",
       "3   49026                     The Dark Knight Rises   \n",
       "4   49529                               John Carter   \n",
       "\n",
       "                                              genres  \\\n",
       "0  [{\"id\": 28, \"name\": \"Action\"}, {\"id\": 12, \"nam...   \n",
       "1  [{\"id\": 12, \"name\": \"Adventure\"}, {\"id\": 14, \"...   \n",
       "2  [{\"id\": 28, \"name\": \"Action\"}, {\"id\": 12, \"nam...   \n",
       "3  [{\"id\": 28, \"name\": \"Action\"}, {\"id\": 80, \"nam...   \n",
       "4  [{\"id\": 28, \"name\": \"Action\"}, {\"id\": 12, \"nam...   \n",
       "\n",
       "                                            keywords  \\\n",
       "0  [{\"id\": 1463, \"name\": \"culture clash\"}, {\"id\":...   \n",
       "1  [{\"id\": 270, \"name\": \"ocean\"}, {\"id\": 726, \"na...   \n",
       "2  [{\"id\": 470, \"name\": \"spy\"}, {\"id\": 818, \"name...   \n",
       "3  [{\"id\": 849, \"name\": \"dc comics\"}, {\"id\": 853,...   \n",
       "4  [{\"id\": 818, \"name\": \"based on novel\"}, {\"id\":...   \n",
       "\n",
       "                                            overview  \\\n",
       "0  In the 22nd century, a paraplegic Marine is di...   \n",
       "1  Captain Barbossa, long believed to be dead, ha...   \n",
       "2  A cryptic message from Bond’s past sends him o...   \n",
       "3  Following the death of District Attorney Harve...   \n",
       "4  John Carter is a war-weary, former military ca...   \n",
       "\n",
       "                                                cast  \\\n",
       "0  [{\"cast_id\": 242, \"character\": \"Jake Sully\", \"...   \n",
       "1  [{\"cast_id\": 4, \"character\": \"Captain Jack Spa...   \n",
       "2  [{\"cast_id\": 1, \"character\": \"James Bond\", \"cr...   \n",
       "3  [{\"cast_id\": 2, \"character\": \"Bruce Wayne / Ba...   \n",
       "4  [{\"cast_id\": 5, \"character\": \"John Carter\", \"c...   \n",
       "\n",
       "                                                crew  \n",
       "0  [{\"credit_id\": \"52fe48009251416c750aca23\", \"de...  \n",
       "1  [{\"credit_id\": \"52fe4232c3a36847f800b579\", \"de...  \n",
       "2  [{\"credit_id\": \"54805967c3a36829b5002c41\", \"de...  \n",
       "3  [{\"credit_id\": \"52fe4781c3a36847f81398c3\", \"de...  \n",
       "4  [{\"credit_id\": \"52fe479ac3a36847f813eaa3\", \"de...  "
      ]
     },
     "execution_count": 127,
     "metadata": {},
     "output_type": "execute_result"
    }
   ],
   "source": [
    "hollywood.head()"
   ]
  },
  {
   "cell_type": "code",
   "execution_count": 128,
   "id": "93ee50e2",
   "metadata": {},
   "outputs": [],
   "source": [
    "hollywood.dropna(inplace=True)"
   ]
  },
  {
   "cell_type": "code",
   "execution_count": 129,
   "id": "3de880df",
   "metadata": {},
   "outputs": [
    {
     "data": {
      "text/plain": [
       "id                0\n",
       "original_title    0\n",
       "genres            0\n",
       "keywords          0\n",
       "overview          0\n",
       "cast              0\n",
       "crew              0\n",
       "dtype: int64"
      ]
     },
     "execution_count": 129,
     "metadata": {},
     "output_type": "execute_result"
    }
   ],
   "source": [
    "hollywood.isnull().sum()"
   ]
  },
  {
   "cell_type": "code",
   "execution_count": 130,
   "id": "f52bfa35",
   "metadata": {},
   "outputs": [
    {
     "data": {
      "text/plain": [
       "0"
      ]
     },
     "execution_count": 130,
     "metadata": {},
     "output_type": "execute_result"
    }
   ],
   "source": [
    "hollywood.duplicated().sum()"
   ]
  },
  {
   "cell_type": "code",
   "execution_count": 131,
   "id": "92a8041f",
   "metadata": {},
   "outputs": [
    {
     "data": {
      "text/html": [
       "<div>\n",
       "<style scoped>\n",
       "    .dataframe tbody tr th:only-of-type {\n",
       "        vertical-align: middle;\n",
       "    }\n",
       "\n",
       "    .dataframe tbody tr th {\n",
       "        vertical-align: top;\n",
       "    }\n",
       "\n",
       "    .dataframe thead th {\n",
       "        text-align: right;\n",
       "    }\n",
       "</style>\n",
       "<table border=\"1\" class=\"dataframe\">\n",
       "  <thead>\n",
       "    <tr style=\"text-align: right;\">\n",
       "      <th></th>\n",
       "      <th>id</th>\n",
       "      <th>original_title</th>\n",
       "      <th>genres</th>\n",
       "      <th>keywords</th>\n",
       "      <th>overview</th>\n",
       "      <th>cast</th>\n",
       "      <th>crew</th>\n",
       "    </tr>\n",
       "  </thead>\n",
       "  <tbody>\n",
       "    <tr>\n",
       "      <th>0</th>\n",
       "      <td>19995</td>\n",
       "      <td>Avatar</td>\n",
       "      <td>[{\"id\": 28, \"name\": \"Action\"}, {\"id\": 12, \"nam...</td>\n",
       "      <td>[{\"id\": 1463, \"name\": \"culture clash\"}, {\"id\":...</td>\n",
       "      <td>In the 22nd century, a paraplegic Marine is di...</td>\n",
       "      <td>[{\"cast_id\": 242, \"character\": \"Jake Sully\", \"...</td>\n",
       "      <td>[{\"credit_id\": \"52fe48009251416c750aca23\", \"de...</td>\n",
       "    </tr>\n",
       "    <tr>\n",
       "      <th>1</th>\n",
       "      <td>285</td>\n",
       "      <td>Pirates of the Caribbean: At World's End</td>\n",
       "      <td>[{\"id\": 12, \"name\": \"Adventure\"}, {\"id\": 14, \"...</td>\n",
       "      <td>[{\"id\": 270, \"name\": \"ocean\"}, {\"id\": 726, \"na...</td>\n",
       "      <td>Captain Barbossa, long believed to be dead, ha...</td>\n",
       "      <td>[{\"cast_id\": 4, \"character\": \"Captain Jack Spa...</td>\n",
       "      <td>[{\"credit_id\": \"52fe4232c3a36847f800b579\", \"de...</td>\n",
       "    </tr>\n",
       "  </tbody>\n",
       "</table>\n",
       "</div>"
      ],
      "text/plain": [
       "      id                            original_title  \\\n",
       "0  19995                                    Avatar   \n",
       "1    285  Pirates of the Caribbean: At World's End   \n",
       "\n",
       "                                              genres  \\\n",
       "0  [{\"id\": 28, \"name\": \"Action\"}, {\"id\": 12, \"nam...   \n",
       "1  [{\"id\": 12, \"name\": \"Adventure\"}, {\"id\": 14, \"...   \n",
       "\n",
       "                                            keywords  \\\n",
       "0  [{\"id\": 1463, \"name\": \"culture clash\"}, {\"id\":...   \n",
       "1  [{\"id\": 270, \"name\": \"ocean\"}, {\"id\": 726, \"na...   \n",
       "\n",
       "                                            overview  \\\n",
       "0  In the 22nd century, a paraplegic Marine is di...   \n",
       "1  Captain Barbossa, long believed to be dead, ha...   \n",
       "\n",
       "                                                cast  \\\n",
       "0  [{\"cast_id\": 242, \"character\": \"Jake Sully\", \"...   \n",
       "1  [{\"cast_id\": 4, \"character\": \"Captain Jack Spa...   \n",
       "\n",
       "                                                crew  \n",
       "0  [{\"credit_id\": \"52fe48009251416c750aca23\", \"de...  \n",
       "1  [{\"credit_id\": \"52fe4232c3a36847f800b579\", \"de...  "
      ]
     },
     "execution_count": 131,
     "metadata": {},
     "output_type": "execute_result"
    }
   ],
   "source": [
    "hollywood.head(2)"
   ]
  },
  {
   "cell_type": "code",
   "execution_count": 132,
   "id": "32df2597",
   "metadata": {},
   "outputs": [],
   "source": [
    "import ast"
   ]
  },
  {
   "cell_type": "code",
   "execution_count": 133,
   "id": "40322ad0",
   "metadata": {},
   "outputs": [],
   "source": [
    "hollywood['genres'] = hollywood['genres'].apply(lambda x:[i['name'] for i in ast.literal_eval(x)])"
   ]
  },
  {
   "cell_type": "code",
   "execution_count": 134,
   "id": "07ac8feb",
   "metadata": {},
   "outputs": [],
   "source": [
    "hollywood['keywords'] = hollywood['keywords'].apply(lambda x:[i['name'] for i in ast.literal_eval(x)])"
   ]
  },
  {
   "cell_type": "code",
   "execution_count": 135,
   "id": "dfabbc71",
   "metadata": {},
   "outputs": [],
   "source": [
    "hollywood['overview'] = hollywood['overview'].apply(lambda x:x.split())"
   ]
  },
  {
   "cell_type": "code",
   "execution_count": 136,
   "id": "9331422f",
   "metadata": {},
   "outputs": [],
   "source": [
    "hollywood['cast'] = hollywood['cast'].apply(lambda x:[i['name'] for i in ast.literal_eval(x)][:3])"
   ]
  },
  {
   "cell_type": "code",
   "execution_count": 143,
   "id": "e4572bdb",
   "metadata": {},
   "outputs": [],
   "source": [
    "def fetch_direc(text):\n",
    "    l = ast.literal_eval(text)\n",
    "    name = []\n",
    "    for i in l:\n",
    "        if i['job']=='Director':\n",
    "            name.append(i['name'])\n",
    "    return name"
   ]
  },
  {
   "cell_type": "code",
   "execution_count": 145,
   "id": "c3385d77",
   "metadata": {},
   "outputs": [],
   "source": [
    "hollywood['director'] = hollywood['crew'].apply(fetch_direc)"
   ]
  },
  {
   "cell_type": "code",
   "execution_count": 147,
   "id": "661d91b9",
   "metadata": {},
   "outputs": [],
   "source": [
    "hollywood.drop('crew',axis=1,inplace=True)"
   ]
  },
  {
   "cell_type": "code",
   "execution_count": 151,
   "id": "8fd86028",
   "metadata": {},
   "outputs": [],
   "source": [
    "hollywood['cast'] = hollywood['cast'].apply(lambda x:[i.replace(' ','') for i in x])"
   ]
  },
  {
   "cell_type": "code",
   "execution_count": 153,
   "id": "9b6c1b5d",
   "metadata": {},
   "outputs": [],
   "source": [
    "hollywood['director'] = hollywood['director'].apply(lambda x:[i.replace(' ','') for i in x])"
   ]
  },
  {
   "cell_type": "code",
   "execution_count": 155,
   "id": "41e924d0",
   "metadata": {},
   "outputs": [],
   "source": [
    "hollywood['keywords'] = hollywood['keywords'].apply(lambda x:[i.replace(' ','') for i in x])"
   ]
  },
  {
   "cell_type": "code",
   "execution_count": 158,
   "id": "1f86cbdf",
   "metadata": {},
   "outputs": [],
   "source": [
    "hollywood['genres'] = hollywood['genres'].apply(lambda x:[i.replace(' ','') for i in x])"
   ]
  },
  {
   "cell_type": "code",
   "execution_count": 160,
   "id": "eb5c33c1",
   "metadata": {},
   "outputs": [],
   "source": [
    "hollywood['tags'] = hollywood['overview']+ hollywood['keywords'] + hollywood['genres'] + hollywood['cast'] + hollywood['director']"
   ]
  },
  {
   "cell_type": "code",
   "execution_count": 162,
   "id": "2e7282b1",
   "metadata": {},
   "outputs": [],
   "source": [
    "hollywood = hollywood[['id','original_title','tags']]"
   ]
  },
  {
   "cell_type": "code",
   "execution_count": 164,
   "id": "f6bc1ca7",
   "metadata": {},
   "outputs": [],
   "source": [
    "hollywood['tags'] = hollywood['tags'] .apply(lambda x:' '.join(x))"
   ]
  },
  {
   "cell_type": "code",
   "execution_count": 166,
   "id": "ecb4dd8f",
   "metadata": {},
   "outputs": [],
   "source": [
    "hollywood['tags'] = hollywood['tags'].str.lower()"
   ]
  },
  {
   "cell_type": "code",
   "execution_count": 167,
   "id": "eb940901",
   "metadata": {},
   "outputs": [],
   "source": [
    "hollywood['tags'] = hollywood['tags'].apply(Stemming)"
   ]
  },
  {
   "cell_type": "code",
   "execution_count": 169,
   "id": "4f11cbff",
   "metadata": {},
   "outputs": [],
   "source": [
    "cv1 = CountVectorizer(stop_words='english',lowercase=True,max_features=5000)"
   ]
  },
  {
   "cell_type": "code",
   "execution_count": 170,
   "id": "d2249277",
   "metadata": {},
   "outputs": [],
   "source": [
    "vectors1 = cv1.fit_transform(hollywood['tags']).toarray()"
   ]
  },
  {
   "cell_type": "code",
   "execution_count": 171,
   "id": "e711ed20",
   "metadata": {},
   "outputs": [],
   "source": [
    "similarity1 = cosine_similarity(vectors1)"
   ]
  },
  {
   "cell_type": "code",
   "execution_count": 181,
   "id": "1b76f9ae",
   "metadata": {},
   "outputs": [],
   "source": [
    "hollywood_movies = hollywood[['id','original_title']]"
   ]
  },
  {
   "cell_type": "code",
   "execution_count": 182,
   "id": "b04fc3b5",
   "metadata": {},
   "outputs": [],
   "source": [
    "pickle.dump(hollywood_movies,open('hollywood_movies.pkl','wb'))"
   ]
  },
  {
   "cell_type": "code",
   "execution_count": 183,
   "id": "a6e8f479",
   "metadata": {},
   "outputs": [],
   "source": [
    "pickle.dump(similarity1,open('similarity1.pkl','wb'))"
   ]
  },
  {
   "cell_type": "code",
   "execution_count": 175,
   "id": "6b648cad",
   "metadata": {},
   "outputs": [
    {
     "data": {
      "text/html": [
       "<div>\n",
       "<style scoped>\n",
       "    .dataframe tbody tr th:only-of-type {\n",
       "        vertical-align: middle;\n",
       "    }\n",
       "\n",
       "    .dataframe tbody tr th {\n",
       "        vertical-align: top;\n",
       "    }\n",
       "\n",
       "    .dataframe thead th {\n",
       "        text-align: right;\n",
       "    }\n",
       "</style>\n",
       "<table border=\"1\" class=\"dataframe\">\n",
       "  <thead>\n",
       "    <tr style=\"text-align: right;\">\n",
       "      <th></th>\n",
       "      <th>id</th>\n",
       "      <th>original_title</th>\n",
       "      <th>tags</th>\n",
       "    </tr>\n",
       "  </thead>\n",
       "  <tbody>\n",
       "    <tr>\n",
       "      <th>0</th>\n",
       "      <td>19995</td>\n",
       "      <td>Avatar</td>\n",
       "      <td>in the 22nd century, a parapleg marin is dispa...</td>\n",
       "    </tr>\n",
       "    <tr>\n",
       "      <th>1</th>\n",
       "      <td>285</td>\n",
       "      <td>Pirates of the Caribbean: At World's End</td>\n",
       "      <td>captain barbossa, long believ to be dead, ha c...</td>\n",
       "    </tr>\n",
       "    <tr>\n",
       "      <th>2</th>\n",
       "      <td>206647</td>\n",
       "      <td>Spectre</td>\n",
       "      <td>a cryptic messag from bond’ past send him on a...</td>\n",
       "    </tr>\n",
       "  </tbody>\n",
       "</table>\n",
       "</div>"
      ],
      "text/plain": [
       "       id                            original_title  \\\n",
       "0   19995                                    Avatar   \n",
       "1     285  Pirates of the Caribbean: At World's End   \n",
       "2  206647                                   Spectre   \n",
       "\n",
       "                                                tags  \n",
       "0  in the 22nd century, a parapleg marin is dispa...  \n",
       "1  captain barbossa, long believ to be dead, ha c...  \n",
       "2  a cryptic messag from bond’ past send him on a...  "
      ]
     },
     "execution_count": 175,
     "metadata": {},
     "output_type": "execute_result"
    }
   ],
   "source": [
    "hollywood.head(3)"
   ]
  },
  {
   "cell_type": "code",
   "execution_count": 179,
   "id": "b02d1f11",
   "metadata": {},
   "outputs": [],
   "source": [
    "def recommed(movie):\n",
    "    movie_index = hollywood[hollywood['original_title']==movie].index[0]\n",
    "    distance = similarity1[movie_index]\n",
    "    movie_list = sorted(list(enumerate(distance)),reverse=True,key=lambda x:x[1])[1:6]\n",
    "    for i in movie_list:\n",
    "        print(hollywood['id'].iloc[i[0]])\n",
    "        print(hollywood['original_title'].iloc[i[0]])"
   ]
  },
  {
   "cell_type": "code",
   "execution_count": 180,
   "id": "ce0d1deb",
   "metadata": {},
   "outputs": [
    {
     "name": "stdout",
     "output_type": "stream",
     "text": [
      "440\n",
      "Aliens vs Predator: Requiem\n",
      "679\n",
      "Aliens\n",
      "270938\n",
      "Falcon Rising\n",
      "602\n",
      "Independence Day\n",
      "7450\n",
      "Titan A.E.\n"
     ]
    }
   ],
   "source": [
    "recommed('Avatar')"
   ]
  },
  {
   "cell_type": "code",
   "execution_count": null,
   "id": "407f889b",
   "metadata": {},
   "outputs": [],
   "source": []
  },
  {
   "cell_type": "code",
   "execution_count": null,
   "id": "0f653ad2",
   "metadata": {},
   "outputs": [],
   "source": []
  },
  {
   "cell_type": "code",
   "execution_count": null,
   "id": "26721801",
   "metadata": {},
   "outputs": [],
   "source": []
  }
 ],
 "metadata": {
  "kernelspec": {
   "display_name": "Python 3",
   "language": "python",
   "name": "python3"
  },
  "language_info": {
   "codemirror_mode": {
    "name": "ipython",
    "version": 3
   },
   "file_extension": ".py",
   "mimetype": "text/x-python",
   "name": "python",
   "nbconvert_exporter": "python",
   "pygments_lexer": "ipython3",
   "version": "3.8.8"
  }
 },
 "nbformat": 4,
 "nbformat_minor": 5
}
